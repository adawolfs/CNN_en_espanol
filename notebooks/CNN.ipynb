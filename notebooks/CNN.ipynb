{
 "cells": [
  {
   "cell_type": "code",
   "execution_count": 1,
   "metadata": {},
   "outputs": [],
   "source": [
    "import numpy as np\n",
    "from tensorflow.keras.preprocessing.image import img_to_array, load_img\n",
    "from pathlib import Path\n",
    "\n",
    "def img_set(images_path):\n",
    "    categories = ['bulbasaur', 'charmander', 'squirtle']\n",
    "    images = []\n",
    "    labels = []\n",
    "    images_path = Path(images_path)\n",
    "    for img in images_path.iterdir():\n",
    "        image = load_img(img)\n",
    "        image = img_to_array(image)\n",
    "        label = categories.index(img.name.split('_')[0])\n",
    "        labels.append(label)\n",
    "        images.append(image)\n",
    "    return np.array(images), np.array(labels)"
   ]
  },
  {
   "cell_type": "code",
   "execution_count": 2,
   "metadata": {},
   "outputs": [],
   "source": [
    "train_dir = \"../data/generated/train\"\n",
    "test_dir = \"../data/generated/test\"\n",
    "\n",
    "x_train, y_train = img_set(train_dir)\n",
    "x_test, y_test = img_set(test_dir)"
   ]
  },
  {
   "cell_type": "code",
   "execution_count": 4,
   "metadata": {},
   "outputs": [
    {
     "data": {
      "text/plain": [
       "array([0, 0, 0, ..., 1, 0, 0])"
      ]
     },
     "execution_count": 4,
     "metadata": {},
     "output_type": "execute_result"
    }
   ],
   "source": [
    "y_test"
   ]
  },
  {
   "cell_type": "code",
   "execution_count": 5,
   "metadata": {},
   "outputs": [],
   "source": [
    "import numpy as np\n",
    "import matplotlib.pyplot as plt\n",
    "import tensorflow.keras as keras\n",
    "from tensorflow.keras.utils import to_categorical\n",
    "from tensorflow.keras.models import Sequential\n",
    "from tensorflow.keras import optimizers\n",
    "from tensorflow.keras.layers import Dense, Activation, Flatten, Conv2D, MaxPooling2D, Dropout\n",
    "\n",
    "X_train = np.array(x_train).astype('float32')\n",
    "X_test = np.array(x_test).astype('float32')\n",
    "X_train /= 255\n",
    "X_test /= 255\n",
    "\n",
    "num_classes=3\n",
    "Y_train = to_categorical(y_train, num_classes=num_classes)\n",
    "Y_test = to_categorical(y_test, num_classes=num_classes)\n",
    "\n",
    "\n"
   ]
  },
  {
   "cell_type": "code",
   "execution_count": 6,
   "metadata": {},
   "outputs": [],
   "source": [
    "\n",
    "model = Sequential()\n",
    "\n",
    "model.add(Conv2D(32, (3,3), input_shape=X_train.shape[1:]))\n",
    "model.add(Activation('relu'))\n",
    "\n",
    "model.add(Conv2D(32, (3,3)))\n",
    "model.add(Activation('relu'))\n",
    "\n",
    "model.add(Conv2D(32, (3,3)))\n",
    "model.add(Activation('relu'))\n",
    "\n",
    "model.add(MaxPooling2D(pool_size=(2,2)))\n",
    "model.add(Dropout(0.25))\n",
    "\n",
    "model.add(Conv2D(64, (3,3)))\n",
    "model.add(Activation('relu'))\n",
    "\n",
    "model.add(Conv2D(64, (3,3)))\n",
    "model.add(Activation('relu'))\n",
    "\n",
    "model.add(MaxPooling2D(pool_size=(2,2)))\n",
    "model.add(Dropout(0.25))\n",
    "\n",
    "model.add(Flatten())\n",
    "\n",
    "model.add(Dense(256))\n",
    "model.add(Activation('relu'))\n",
    "model.add(Dropout(0.5))\n",
    "\n",
    "model.add(Dense(num_classes, input_shape=[num_classes]))\n",
    "model.add(Activation('softmax'))\n",
    "\n",
    "optimizer = optimizers.Adam()\n",
    "model.compile(loss='categorical_crossentropy',\n",
    "             optimizer=optimizer,\n",
    "             metrics=['accuracy'])\n",
    "\n",
    "epochs = 10\n",
    "batch_size = 150\n"
   ]
  },
  {
   "cell_type": "code",
   "execution_count": 7,
   "metadata": {},
   "outputs": [
    {
     "name": "stdout",
     "output_type": "stream",
     "text": [
      "Epoch 1/10\n",
      "517/517 [==============================] - 122s 236ms/step - loss: 0.2551 - accuracy: 0.8923 - val_loss: 0.0732 - val_accuracy: 0.9629\n",
      "Epoch 2/10\n",
      "517/517 [==============================] - 121s 234ms/step - loss: 0.0915 - accuracy: 0.9646 - val_loss: 0.0517 - val_accuracy: 0.9736\n",
      "Epoch 3/10\n",
      "517/517 [==============================] - 124s 239ms/step - loss: 0.0545 - accuracy: 0.9797 - val_loss: 0.0182 - val_accuracy: 0.9953\n",
      "Epoch 4/10\n",
      "517/517 [==============================] - 111s 214ms/step - loss: 0.0467 - accuracy: 0.9827 - val_loss: 0.0151 - val_accuracy: 0.9957\n",
      "Epoch 5/10\n",
      "517/517 [==============================] - 127s 245ms/step - loss: 0.0329 - accuracy: 0.9879 - val_loss: 0.0331 - val_accuracy: 0.9863\n",
      "Epoch 6/10\n",
      "517/517 [==============================] - 128s 247ms/step - loss: 0.0308 - accuracy: 0.9887 - val_loss: 0.0182 - val_accuracy: 0.9943\n",
      "Epoch 7/10\n",
      "517/517 [==============================] - 127s 245ms/step - loss: 0.0279 - accuracy: 0.9901 - val_loss: 0.0127 - val_accuracy: 0.9957\n",
      "Epoch 8/10\n",
      "517/517 [==============================] - 126s 243ms/step - loss: 0.0216 - accuracy: 0.9920 - val_loss: 0.0034 - val_accuracy: 0.9997\n",
      "Epoch 9/10\n",
      "517/517 [==============================] - 122s 235ms/step - loss: 0.0251 - accuracy: 0.9910 - val_loss: 0.0326 - val_accuracy: 0.9870\n",
      "Epoch 10/10\n",
      "517/517 [==============================] - 125s 241ms/step - loss: 0.0192 - accuracy: 0.9928 - val_loss: 0.0102 - val_accuracy: 0.9983\n"
     ]
    },
    {
     "data": {
      "text/plain": [
       "<tensorflow.python.keras.callbacks.History at 0x7f6ac61855b0>"
      ]
     },
     "execution_count": 7,
     "metadata": {},
     "output_type": "execute_result"
    }
   ],
   "source": [
    "\n",
    "model.fit(X_train, Y_train, batch_size=batch_size, epochs=epochs, validation_data=(X_test, Y_test))"
   ]
  },
  {
   "cell_type": "code",
   "execution_count": 19,
   "metadata": {},
   "outputs": [],
   "source": [
    "from PIL import Image\n",
    "from pathlib import Path\n",
    "def recognize_image(image_path):\n",
    "    categories = ['bulbasaur', 'charmander', 'squirtle']\n",
    "    image_path = Path(image_path)\n",
    "    resized_image_path = image_path.parent/f\"resized_{image_path.name}\"\n",
    "    img = Image.open(image_path)\n",
    "    img = img.convert(\"RGB\")\n",
    "    img = img.resize((32,32))\n",
    "    img.save(resized_image_path)\n",
    "    \n",
    "    image = load_img(resized_image_path)\n",
    "    image = img_to_array(image)\n",
    "    img_input_array = np.array([image])\n",
    "    predictions = model.predict(img_input_array)\n",
    "    prediction = np.argmax(predictions, axis=1)\n",
    "    return categories[prediction[0]]"
   ]
  },
  {
   "cell_type": "code",
   "execution_count": 20,
   "metadata": {},
   "outputs": [
    {
     "data": {
      "text/plain": [
       "'charmander'"
      ]
     },
     "execution_count": 20,
     "metadata": {},
     "output_type": "execute_result"
    }
   ],
   "source": [
    "recognize_image(\"../charmander.jpg\")"
   ]
  },
  {
   "cell_type": "code",
   "execution_count": 24,
   "metadata": {},
   "outputs": [
    {
     "data": {
      "text/plain": [
       "'bulbasaur'"
      ]
     },
     "execution_count": 24,
     "metadata": {},
     "output_type": "execute_result"
    }
   ],
   "source": [
    "recognize_image(\"../test99.jpg\")"
   ]
  },
  {
   "cell_type": "code",
   "execution_count": 25,
   "metadata": {},
   "outputs": [],
   "source": [
    "model.save_weights('../data/weights')"
   ]
  }
 ],
 "metadata": {
  "kernelspec": {
   "display_name": "Python 3",
   "language": "python",
   "name": "python3"
  },
  "language_info": {
   "codemirror_mode": {
    "name": "ipython",
    "version": 3
   },
   "file_extension": ".py",
   "mimetype": "text/x-python",
   "name": "python",
   "nbconvert_exporter": "python",
   "pygments_lexer": "ipython3",
   "version": "3.8.5"
  }
 },
 "nbformat": 4,
 "nbformat_minor": 4
}
