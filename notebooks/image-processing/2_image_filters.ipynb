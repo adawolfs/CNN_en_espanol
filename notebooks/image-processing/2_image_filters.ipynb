{
 "cells": [
  {
   "cell_type": "markdown",
   "metadata": {},
   "source": [
    "# Kernels / Filtros / Convoluciones"
   ]
  },
  {
   "cell_type": "markdown",
   "metadata": {},
   "source": [
    "### Librerias"
   ]
  },
  {
   "cell_type": "code",
   "execution_count": null,
   "metadata": {},
   "outputs": [],
   "source": [
    "import matplotlib.pyplot as plt\n",
    "import matplotlib.image as mpimg\n",
    "\n",
    "import cv2\n",
    "import numpy as np\n",
    "\n",
    "%matplotlib inline\n",
    "\n"
   ]
  },
  {
   "cell_type": "markdown",
   "metadata": {},
   "source": [
    "### Download Images"
   ]
  },
  {
   "cell_type": "code",
   "execution_count": null,
   "metadata": {},
   "outputs": [],
   "source": [
    "!git clone https://github.com/adawolfs/CNN_en_espanol"
   ]
  },
  {
   "cell_type": "markdown",
   "metadata": {},
   "source": [
    "### rootPath Configuration"
   ]
  },
  {
   "cell_type": "code",
   "execution_count": null,
   "metadata": {},
   "outputs": [],
   "source": [
    "route = '../'\n",
    "# Usar esta linea en colab\n",
    "# route = './CNN_en_espanol/'"
   ]
  },
  {
   "cell_type": "markdown",
   "metadata": {},
   "source": [
    "### Como funcionan los kernels\n",
    "\n",
    "<img src=\"https://raw.githubusercontent.com/adawolfs/Computer-Vision-Jalapa/master/images/conv_kernel.gif\" width=500 height=500>\n",
    "\n",
    "<img src=\"https://raw.githubusercontent.com/adawolfs/Computer-Vision-Jalapa/master/images/conv_kernel_1.gif\" width=500 height=500>\n",
    "\n"
   ]
  },
  {
   "cell_type": "markdown",
   "metadata": {},
   "source": [
    "## Algunos kernels comunes\n",
    "\n",
    "### Line detection\n",
    "Con Estos kernels se podran detectar lineas en distintas direcciones\n",
    "<img src=\"http://aishack.in/static/img/tut/conv-line-detection.jpg\" width=500 height=500>\n",
    "\n",
    "\n",
    "### Edge\n",
    "Los kernels usados hasta ahora, solo detectan lineas en direcciones independientes,\n",
    "este kernel combina todos ellos para detectar bordes\n",
    "<img src=\"http://aishack.in/static/img/tut/conv-edge-detection.jpg\" width=500 height=500>\n",
    "\n",
    "\n",
    "### Sovel\n",
    "Los kernels anteriores son muy sensibles a ruido, sovel tiene un efecto más suave.\n",
    "<img src=\"http://aishack.in/static/img/tut/conv-sobel.jpg\" width=500 height=500>\n"
   ]
  },
  {
   "cell_type": "code",
   "execution_count": null,
   "metadata": {},
   "outputs": [],
   "source": [
    "# Read in the image\n",
    "image = mpimg.imread(route + 'images/curved_lane.jpg')\n",
    "plt.imshow(image)\n",
    "gray = cv2.cvtColor(image, cv2.COLOR_RGB2GRAY)\n",
    "plt.imshow(gray, cmap='gray')\n",
    "\n",
    "\n",
    "\n",
    "kernel = np.array([ [ -1, -2, -1], \n",
    "                     [ 0, 0, 0], \n",
    "                     [ 1, 2, 1]])\n",
    "\n",
    "# Aplicar el filtro usando filter2D(grayscale image, bit-depth, kernel)  \n",
    "filtered_image = cv2.filter2D(gray, -1, kernel)\n",
    "\n",
    "plt.imshow(filtered_image, cmap='gray')"
   ]
  }
 ],
 "metadata": {
  "anaconda-cloud": {},
  "kernelspec": {
   "display_name": "Python 3",
   "language": "python",
   "name": "python3"
  },
  "language_info": {
   "codemirror_mode": {
    "name": "ipython",
    "version": 3
   },
   "file_extension": ".py",
   "mimetype": "text/x-python",
   "name": "python",
   "nbconvert_exporter": "python",
   "pygments_lexer": "ipython3",
   "version": "3.6.8"
  }
 },
 "nbformat": 4,
 "nbformat_minor": 1
}