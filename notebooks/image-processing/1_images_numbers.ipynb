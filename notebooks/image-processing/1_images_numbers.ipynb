{
 "cells": [
  {
   "cell_type": "markdown",
   "metadata": {},
   "source": [
    "# Como procesar una imagen"
   ]
  },
  {
   "cell_type": "markdown",
   "metadata": {},
   "source": [
    "### Import resources"
   ]
  },
  {
   "cell_type": "code",
   "execution_count": null,
   "metadata": {},
   "outputs": [],
   "source": [
    "import numpy as np\n",
    "import matplotlib.image as mpimg  # Read images\n",
    "import matplotlib.pyplot as plt   # Show Images\n",
    "import cv2  # computer vision library\n",
    "%matplotlib inline"
   ]
  },
  {
   "cell_type": "markdown",
   "metadata": {},
   "source": [
    "### Download Images"
   ]
  },
  {
   "cell_type": "code",
   "execution_count": null,
   "metadata": {},
   "outputs": [],
   "source": [
    "!git clone https://github.com/adawolfs/CNN_en_espanol"
   ]
  },
  {
   "cell_type": "markdown",
   "metadata": {},
   "source": [
    "### rootPath Configuration"
   ]
  },
  {
   "cell_type": "code",
   "execution_count": null,
   "metadata": {},
   "outputs": [],
   "source": [
    "route = '../'\n",
    "# Usar esta linea en colab\n",
    "# route = './CNN_en_espanol/'"
   ]
  },
  {
   "cell_type": "markdown",
   "metadata": {},
   "source": [
    "### Leer e Imprimir una imagen"
   ]
  },
  {
   "cell_type": "code",
   "execution_count": null,
   "metadata": {
    "scrolled": true
   },
   "outputs": [],
   "source": [
    "# Leer la Imagen\n",
    "image = mpimg.imread( route + 'images/wth_is_a_meme.jpg')\n",
    "\n",
    "# Imprimir imagen\n",
    "plt.imshow(image)\n"
   ]
  },
  {
   "cell_type": "markdown",
   "metadata": {},
   "source": [
    "### Como esta compuesta una imagen"
   ]
  },
  {
   "cell_type": "code",
   "execution_count": null,
   "metadata": {},
   "outputs": [],
   "source": [
    "# Imprimir imagen\n",
    "plt.imshow(image)\n",
    "# Tamaño de la imagen\n",
    "print('Dimensinoes de la imagen:', image.shape)"
   ]
  },
  {
   "cell_type": "markdown",
   "metadata": {},
   "source": [
    "### Una imagen no siempre tiene 2 dimensiones"
   ]
  },
  {
   "cell_type": "code",
   "execution_count": null,
   "metadata": {},
   "outputs": [],
   "source": [
    "# Separar cada canal\n",
    "channels = [image]\n",
    "channels.append(image[:,:,2])\n",
    "channels.append(image[:,:,1])\n",
    "channels.append(image[:,:,0])\n",
    "\n",
    "# Titulos y mapas de colores\n",
    "titles = ['Original', 'Red channel', 'Green channel', 'Blue channel']\n",
    "cmaps = [None, plt.cm.Reds_r, plt.cm.Greens_r, plt.cm.Blues_r]\n",
    "\n",
    "# Crear objeto para dibujar las imagenes\n",
    "fig, axes = plt.subplots(1, 4, figsize=(20,3))\n",
    "objs = zip(axes, channels, titles, cmaps)\n",
    "\n",
    "for ax, channel, title, cmap in objs:\n",
    "    ax.imshow(channel, cmap=cmap)\n",
    "    ax.set_title(title)\n",
    "    ax.set_xticks(())\n",
    "    ax.set_yticks(())\n",
    "\n",
    "\n"
   ]
  },
  {
   "cell_type": "markdown",
   "metadata": {},
   "source": [
    "### Un poco más simple"
   ]
  },
  {
   "cell_type": "code",
   "execution_count": null,
   "metadata": {},
   "outputs": [],
   "source": [
    "# Imprimir la imagen en Gris\n",
    "gray_image = cv2.cvtColor(image, cv2.COLOR_RGB2GRAY)\n",
    "plt.imshow(gray_image, cmap='gray')\n",
    "print('Dimensinoes de la imagen:', gray_image.shape)\n"
   ]
  },
  {
   "cell_type": "markdown",
   "metadata": {},
   "source": [
    "### Ahora un poco más cerca"
   ]
  },
  {
   "cell_type": "code",
   "execution_count": null,
   "metadata": {},
   "outputs": [],
   "source": [
    "# Mostrar imagen y definir limites\n",
    "plt.imshow(gray_image, cmap='gray')\n",
    "plt.xlim(400, 405)\n",
    "plt.ylim(405, 400)\n",
    "plt.show()"
   ]
  },
  {
   "cell_type": "markdown",
   "metadata": {},
   "source": [
    "### A que equivale un pixel?"
   ]
  },
  {
   "cell_type": "code",
   "execution_count": null,
   "metadata": {},
   "outputs": [],
   "source": [
    "x = 402\n",
    "y = 402\n",
    "print(gray_image[y,x])"
   ]
  },
  {
   "cell_type": "markdown",
   "metadata": {},
   "source": [
    "### Y como varian estos valores?"
   ]
  },
  {
   "cell_type": "code",
   "execution_count": null,
   "metadata": {},
   "outputs": [],
   "source": [
    "max_val = np.amax(gray_image)\n",
    "min_val = np.amin(gray_image)\n",
    "\n",
    "print('Max: ', max_val)\n",
    "print('Min: ', min_val)"
   ]
  },
  {
   "cell_type": "markdown",
   "metadata": {},
   "source": [
    "### Tambien funciona de la manera inversa!"
   ]
  },
  {
   "cell_type": "code",
   "execution_count": null,
   "metadata": {},
   "outputs": [],
   "source": [
    "# Crear un array con numeros \"aleatoreos\"\n",
    "array_image = np.array([[255 , 20 , 0  , 255, 0  , 0  , 255],\n",
    "                        [0   , 200, 255, 0  , 122, 255, 0  ],\n",
    "                        [0   , 255, 200, 85 , 40 , 103, 0  ],\n",
    "                        [255 , 0  , 255, 50 , 93 , 0  , 255],\n",
    "                        [255 , 255, 0  , 123, 0  , 255, 255],\n",
    "                        [255 , 255, 255, 0  , 255, 255, 255]])\n",
    "\n",
    "# Para mostrar el array de pixels, usar matshow\n",
    "plt.matshow(array_image, cmap='gray')\n"
   ]
  },
  {
   "cell_type": "code",
   "execution_count": null,
   "metadata": {},
   "outputs": [],
   "source": []
  }
 ],
 "metadata": {
  "anaconda-cloud": {},
  "kernelspec": {
   "display_name": "Python 3",
   "language": "python",
   "name": "python3"
  },
  "language_info": {
   "codemirror_mode": {
    "name": "ipython",
    "version": 3
   },
   "file_extension": ".py",
   "mimetype": "text/x-python",
   "name": "python",
   "nbconvert_exporter": "python",
   "pygments_lexer": "ipython3",
   "version": "3.6.8"
  }
 },
 "nbformat": 4,
 "nbformat_minor": 1
}