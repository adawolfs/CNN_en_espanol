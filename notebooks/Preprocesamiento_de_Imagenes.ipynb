{
 "cells": [
  {
   "cell_type": "code",
   "execution_count": null,
   "metadata": {},
   "outputs": [],
   "source": [
    "%matplotlib inline\n",
    "import matplotlib.pyplot as ptl\n",
    "from PIL import Image\n",
    "from pathlib import Path\n",
    "import random\n",
    "import shutil\n",
    "\n",
    "def resize_images(source_dir, target_dir, test_samples):\n",
    "  \n",
    "  source_dir = Path(source_dir)\n",
    "  target_dir = Path(target_dir)\n",
    "\n",
    "  try:\n",
    "    target_dir.mkdir()\n",
    "    train_path = Path(target_dir/\"train\")\n",
    "    train_path.mkdir()\n",
    "    \n",
    "    test_path = Path(target_dir/\"test\")\n",
    "    test_path.mkdir()\n",
    "  except FileExistsError:\n",
    "    print(\"Target Directory already exists.\")\n",
    "\n",
    "\n",
    "  for dir in source_dir.iterdir():\n",
    "    print(f\"Directory name: {dir.name}\")\n",
    "    print(\"Images in directory\")\n",
    "    x = 0\n",
    "    for image in dir.iterdir():\n",
    "      print(f\"Resizing: {image.name}\")\n",
    "      img = Image.open(image)\n",
    "      img = img.convert(\"RGB\")\n",
    "      \n",
    "#      plt.imshow(img)\n",
    "#      plt.axis('on')\n",
    "#      plt.title(image)\n",
    "#      plt.show()\n",
    "\n",
    "      img = img.resize((32,32))\n",
    "#      plt.imshow(img)\n",
    "#      plt.axis('on')\n",
    "#      plt.title(image)\n",
    "#     plt.show()\n",
    "      img.save(train_path/f\"{dir.name}_{x}.jpg\")\n",
    "      x = x+1\n",
    "    samples = random.sample(range(0, x), test_samples)\n",
    "    \n",
    "    for sample in samples:\n",
    "      print(f\"New Test Sample: {dir.name}_{sample}.jpg\")\n",
    "      shutil.move(target_dir/f\"train/{dir.name}_{sample}.jpg\", target_dir/f\"test/{dir.name}_{sample}.jpg\")"
   ]
  },
  {
   "cell_type": "code",
   "execution_count": null,
   "metadata": {},
   "outputs": [],
   "source": [
    "resize_images(\"../data/original\", \"../data/resized\", 10)"
   ]
  },
  {
   "cell_type": "code",
   "execution_count": null,
   "metadata": {},
   "outputs": [],
   "source": [
    "from tensorflow.keras.preprocessing.image import ImageDataGenerator, array_to_img, img_to_array, load_img\n",
    "\n",
    "def generate_images(source_path, target_path, generations):\n",
    "  \n",
    "  datagen = ImageDataGenerator(\n",
    "    rotation_range = 20,\n",
    "    width_shift_range = 0.2, \n",
    "    height_shift_range = 0.2,\n",
    "    shear_range = 0.2,\n",
    "    zoom_range = 0.2,\n",
    "    horizontal_flip = True,\n",
    "    channel_shift_range = 10,\n",
    "    fill_mode= 'nearest'\n",
    "  )\n",
    "  source_path = Path(source_path)\n",
    "  target_path = Path(target_path)\n",
    "    \n",
    "  if target_path.exists():\n",
    "    print(\"Target already exists, please delete it.\")\n",
    "    return 0\n",
    "  \n",
    "  target_path.mkdir(parents=True)\n",
    "  for image in source_path.iterdir():\n",
    "        \n",
    "    image_name, image_ext = image.name.split(\".\")\n",
    "    img = load_img(image)\n",
    "    img = img_to_array(img)\n",
    "    img = img.reshape((1,) + img.shape)\n",
    "    \n",
    "    i = 0\n",
    "    for batch in datagen.flow(img, batch_size=1, save_to_dir=target_path, save_prefix=image_name, save_format=\"jpg\"):\n",
    "      i = i+1\n",
    "      if i >= generations:\n",
    "        break"
   ]
  },
  {
   "cell_type": "code",
   "execution_count": null,
   "metadata": {},
   "outputs": [],
   "source": [
    "generate_images(\"../data/resized/train\", \"../data/generated/train\", 100)\n",
    "generate_images(\"../data/resized/test\", \"../data/generated/test\", 100)"
   ]
  }
 ],
 "metadata": {
  "kernelspec": {
   "display_name": "Python 3",
   "language": "python",
   "name": "python3"
  },
  "language_info": {
   "codemirror_mode": {
    "name": "ipython",
    "version": 3
   },
   "file_extension": ".py",
   "mimetype": "text/x-python",
   "name": "python",
   "nbconvert_exporter": "python",
   "pygments_lexer": "ipython3",
   "version": "3.8.5"
  }
 },
 "nbformat": 4,
 "nbformat_minor": 4
}
